{
  "nbformat": 4,
  "nbformat_minor": 0,
  "metadata": {
    "colab": {
      "provenance": []
    },
    "kernelspec": {
      "name": "python3",
      "display_name": "Python 3"
    },
    "language_info": {
      "name": "python"
    }
  },
  "cells": [
    {
      "cell_type": "code",
      "execution_count": null,
      "metadata": {
        "id": "MTjQ1DvsRoiU"
      },
      "outputs": [],
      "source": []
    },
    {
      "cell_type": "markdown",
      "source": [
        "q1. Tasks to Be Performed:\n",
        "1 Based on what you have learnt in the class, do the following steps:\n",
        " a. Create a new folder\n",
        "b. Put the following files in the folder\n",
        " Code.txt\n",
        " Log.txt\n",
        " Output.txt\n",
        "  c. Stage the Code.txt and Output.txt files\n",
        " d. Commit them\n",
        " e. And finally push them to GitHub\n",
        "\n",
        " ans:\n",
        "\n",
        "\n"
      ],
      "metadata": {
        "id": "O7EgyYMxR0Oh"
      }
    },
    {
      "cell_type": "code",
      "source": [
        "! mkdir folder\n",
        "!cd folder\n",
        "! touch code.txt\n",
        "! touch log.txt\n",
        "! touch output.txt\n",
        "! git init\n",
        "! git add code.txt output.txt\n",
        "! git commit -m \"commit\"\n",
        "!git remote add origin https://github.com/Dheeraj587/pw-skill-31may\n",
        "! git push -u origin main\n"
      ],
      "metadata": {
        "id": "NXCbFNy-SnYQ"
      },
      "execution_count": null,
      "outputs": []
    },
    {
      "cell_type": "markdown",
      "source": [
        "q2. Y Tasks to Be Performed:\n",
        "\n",
        "\n",
        "1. Create a Git working directory with feature1.txt and feature2.txt in the master branch\n",
        "\n",
        "2. Create 3 branches develop, feature1 and feature2\n",
        "\n",
        "3. In develop branch create develop.txt, do not stage or commit it\n",
        "\n",
        "4. Stash this file and check out to feature1 branch\n",
        "\n",
        "5. Create new.txt file in feature1 branch, stage and commit this file\n",
        "\n",
        "6. Checkout to develop, unstash this file and commit\n",
        "\n",
        "7. Please submit all the Git commands used to do the above step.\n",
        "\n",
        "ans:"
      ],
      "metadata": {
        "id": "mDyU1DMEUOYm"
      }
    },
    {
      "cell_type": "code",
      "source": [
        "! mkdir git\n",
        "! cd git\n",
        "! git init\n",
        "! nano feature1.txt\n",
        "! nano feature2.txt\n",
        "! git add feature1.txt feature2.txt\n",
        "! git commit -m \"commit\"\n",
        "! git branch develop\n",
        "! git branch feature1\n",
        "! git branch feature2\n",
        "! git checkout develop\n",
        "! touch develop.txt\n",
        "!git stash\n",
        "! git checkout feature1\n",
        "! touch new.txt\n",
        "! git add new.txt\n",
        "! git commit -m \"message\"\n",
        "! git checkout develop\n",
        "! git stash apply\n",
        "! git commit -m \"commit\"\n"
      ],
      "metadata": {
        "id": "_fI5d_jiUanL"
      },
      "execution_count": null,
      "outputs": []
    },
    {
      "cell_type": "markdown",
      "source": [
        "q3. Tasks to Be Performed:\n",
        "\n",
        "\n",
        "1. Create a Git working directory, with the following branches:\n",
        "\n",
        "\n",
        "               Develop\n",
        "\n",
        "               F1\n",
        "\n",
        "               f2\n",
        "\n",
        "\n",
        "2. In the master branch, commit main.txt file\n",
        "\n",
        "3. Put develop.txt in develop branch, f1.txt and f2.txt in f1 and f2 respectively\n",
        "\n",
        "4. Push all these branches to GitHub\n",
        "\n",
        "5. On local delete f2 branch\n",
        "\n",
        "6. Delete the same branch on GitHub as well.\n",
        "\n",
        "ans:"
      ],
      "metadata": {
        "id": "AMk9DY1wXTI3"
      }
    },
    {
      "cell_type": "code",
      "source": [
        "! mkdir myfolder\n",
        "! cd myfolder\n",
        "! git init\n",
        "! git branch develop\n",
        "! git branch f1\n",
        "! git branch f2\n",
        "! touch main.txt\n",
        "! git add main.txt\n",
        "! git commit -m \"commit\"\n",
        "! git checkout develop\n",
        "! touch develop.txt\n",
        "! git add develop.txt\n",
        "! git commit -m \"commmit\"\n",
        "! git checkout f1\n",
        "! touch f1.txt\n",
        "! git add f1.txt\n",
        "! git commit -m \"message\"\n",
        "! git checkout f2\n",
        "! touch f2.txt\n",
        "! git add f2.txt\n",
        "! git commit -m \"commit\"\n",
        "! git remote add origin https://github.com/Dheeraj587/pw-skill-31may\n",
        "! git push -u origin main\n",
        "! git push -u origin develop\n",
        "! git push -u origin f1\n",
        "! git push -u origin f2\n",
        "! git branch -d f2\n",
        "! git push origin --delete f2\n",
        "\n"
      ],
      "metadata": {
        "id": "-9DcygB9Xndq"
      },
      "execution_count": null,
      "outputs": []
    },
    {
      "cell_type": "markdown",
      "source": [
        "q4. Tasks to Be Performed:\n",
        "\n",
        "1. Put master.txt on master branch, stage and commit\n",
        "\n",
        "2. Create 3 branches: public 1, public 2 and private\n",
        "\n",
        "3. Put public1.txt on public 1 branch, stage and commit\n",
        "\n",
        "4. Merge public 1 on master branch\n",
        "\n",
        "5. Merge public 2 on master branch\n",
        "\n",
        "6. Edit master.txt on private branch, stage and commit\n",
        "\n",
        "7. Now update branch public 1 and public 2 with new master code in private\n",
        "\n",
        "8. Also update new master code on master\n",
        "\n",
        "9. Finally update all the code on the private branch\n",
        "\n",
        "ans:\n"
      ],
      "metadata": {
        "id": "56CpI9gAaCdK"
      }
    },
    {
      "cell_type": "code",
      "source": [
        "! touch master.txt\n",
        "! git add master.txt\n",
        "! git commit -m \"commit\"\n",
        "! git branch public1\n",
        "! git branch public2\n",
        "! git brnach private\n",
        "! git checkout public1\n",
        "! touch public1.txt\n",
        "! git add public1.txt\n",
        "! git commit -m \"commit\"\n",
        "! git merge public1 master\n",
        "! git merge public2 master\n"
      ],
      "metadata": {
        "id": "iehGC2uzaO4R"
      },
      "execution_count": null,
      "outputs": []
    },
    {
      "cell_type": "markdown",
      "source": [
        "\n",
        " q5. + Tasks to Be Performed:\n",
        "\n",
        "1. Create a Git Flow workflow architecture on Git\n",
        "\n",
        "2. Create all the required branches\n",
        "\n",
        "3. starting from e feature branch, push the branch to the master, following the architecture\n",
        "\n",
        "4. Push an urgent.txt on master using hotfix\n",
        "\n",
        "ans:"
      ],
      "metadata": {
        "id": "0h48ZZucb-7i"
      }
    },
    {
      "cell_type": "code",
      "source": [
        "! mkdir git_workflow\n",
        "! cd git_workflow\n",
        "! git init\n",
        "!"
      ],
      "metadata": {
        "id": "Y9YxyAwZchrC"
      },
      "execution_count": null,
      "outputs": []
    }
  ]
}